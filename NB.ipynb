{
 "cells": [
  {
   "cell_type": "code",
   "execution_count": null,
   "metadata": {},
   "outputs": [],
   "source": [
    "import datasets\n",
    "from datasets import load_dataset\n",
    "data = load_dataset(\"sentiment140\")"
   ]
  },
  {
   "cell_type": "code",
   "execution_count": null,
   "metadata": {},
   "outputs": [],
   "source": [
    "import numpy as np\n",
    "\n",
    "# 0と4のラベルだけをフィルタリング\n",
    "def filter_labels(texts, labels, target_labels):\n",
    "    mask = np.isin(labels, target_labels)\n",
    "    return np.array(texts)[mask], np.array(labels)[mask]\n",
    "\n",
    "# 訓練データとテストデータをフィルタリング\n",
    "train_texts, train_labels = filter_labels(train_texts, train_labels, [0, 4])\n",
    "test_texts, test_labels = filter_labels(test_texts, test_labels, [0, 4])\n",
    "\n",
    "# テキストデータを数値ベクトルに変換\n",
    "vectorizer = TfidfVectorizer(max_features=5000)  # TF-IDF特徴量を使用\n",
    "train_vectors = vectorizer.fit_transform(train_texts)\n",
    "test_vectors = vectorizer.transform(test_texts)\n",
    "\n",
    "# ロジスティック回帰モデルを訓練\n",
    "model = LogisticRegression(max_iter=1000)\n",
    "model.fit(train_vectors, train_labels)\n",
    "\n",
    "# テストデータでモデルを評価\n",
    "test_predictions = model.predict(test_vectors)\n",
    "test_accuracy = accuracy_score(test_labels, test_predictions)\n",
    "print(f'Test Accuracy: {test_accuracy:.4f}')\n",
    "\n",
    "# テストデータに対する詳細な分類レポート\n",
    "print(classification_report(test_labels, test_predictions, target_names=['0', '4']))\n"
   ]
  }
 ],
 "metadata": {
  "language_info": {
   "name": "python"
  }
 },
 "nbformat": 4,
 "nbformat_minor": 2
}
